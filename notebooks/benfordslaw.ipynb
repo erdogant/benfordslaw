{
  "nbformat": 4,
  "nbformat_minor": 0,
  "metadata": {
    "colab": {
      "name": "benfordslaw.ipynb",
      "provenance": [],
      "collapsed_sections": []
    },
    "kernelspec": {
      "name": "python3",
      "display_name": "Python 3"
    }
  },
  "cells": [
    {
      "cell_type": "markdown",
      "metadata": {
        "id": "SNiXzxf00VKk",
        "colab_type": "text"
      },
      "source": [
        "**benfordslaw** is Python package to test if an empirical (observed) distribution differs significantly from a theoretical (expected, Benfords) distribution. This notebooks is the show some examples.\n",
        "\n",
        "[Github benfordslaw](https://github.com/erdogant/benfordslaw)"
      ]
    },
    {
      "cell_type": "code",
      "metadata": {
        "id": "mdNqnD4e0qyh",
        "colab_type": "code",
        "colab": {}
      },
      "source": [
        "# Install from pypi\n",
        "!pip install benfordslaw"
      ],
      "execution_count": null,
      "outputs": []
    },
    {
      "cell_type": "code",
      "metadata": {
        "id": "Ad4SbgQ30gO5",
        "colab_type": "code",
        "colab": {}
      },
      "source": [
        "# Check version\n",
        "import benfordslaw\n",
        "print(benfordslaw.__version__)"
      ],
      "execution_count": null,
      "outputs": []
    },
    {
      "cell_type": "code",
      "metadata": {
        "id": "SEXgHVRLFXri",
        "colab_type": "code",
        "colab": {}
      },
      "source": [
        "# Load library\n",
        "from benfordslaw import benfordslaw\n",
        "# Initialize with default parameters\n",
        "bl = benfordslaw()"
      ],
      "execution_count": null,
      "outputs": []
    },
    {
      "cell_type": "code",
      "metadata": {
        "id": "cwqpaWOfFeJQ",
        "colab_type": "code",
        "colab": {}
      },
      "source": [
        "# Import USA example\n",
        "df = bl.import_example(data='elections_usa')"
      ],
      "execution_count": null,
      "outputs": []
    },
    {
      "cell_type": "code",
      "metadata": {
        "id": "3wGGKokVFiC3",
        "colab_type": "code",
        "colab": {}
      },
      "source": [
        "print(df.head())"
      ],
      "execution_count": null,
      "outputs": []
    },
    {
      "cell_type": "code",
      "metadata": {
        "id": "3M_c_MVoFjyo",
        "colab_type": "code",
        "colab": {}
      },
      "source": [
        "# Get data for candidate Donald Trump\n",
        "Iloc = df['candidate']=='Donald Trump'\n",
        "X = df['votes'].loc[Iloc].values\n",
        "print(X)"
      ],
      "execution_count": null,
      "outputs": []
    },
    {
      "cell_type": "code",
      "metadata": {
        "id": "N0RJihQAFnr0",
        "colab_type": "code",
        "colab": {}
      },
      "source": [
        "# Test if the empirical observed distribution significantly differs from a theoretical (expected, Benfords) distribution.\n",
        "results = bl.fit(X)"
      ],
      "execution_count": null,
      "outputs": []
    },
    {
      "cell_type": "code",
      "metadata": {
        "id": "JzAnwd7FFo_2",
        "colab_type": "code",
        "colab": {}
      },
      "source": [
        "# Plot\n",
        "bl.plot(title='Donald Trump')"
      ],
      "execution_count": null,
      "outputs": []
    },
    {
      "cell_type": "code",
      "metadata": {
        "id": "2L-wOp4gNdRO",
        "colab_type": "code",
        "colab": {}
      },
      "source": [
        "# Plot but change some figure settings such as color, fontsize and barwidth\n",
        "bl.plot(title='Donald Trump', barcolor=[0.5,0.5,0.5], fontsize=12, barwidth=0.4)"
      ],
      "execution_count": null,
      "outputs": []
    },
    {
      "cell_type": "code",
      "metadata": {
        "id": "zWT4uVIrMMvH",
        "colab_type": "code",
        "colab": {}
      },
      "source": [
        "# Print the Pvalue\n",
        "bl.results['P']"
      ],
      "execution_count": null,
      "outputs": []
    },
    {
      "cell_type": "code",
      "metadata": {
        "id": "oV-HiB-HMP7h",
        "colab_type": "code",
        "colab": {}
      },
      "source": [
        "# Print the t-score\n",
        "bl.results['t']"
      ],
      "execution_count": null,
      "outputs": []
    },
    {
      "cell_type": "code",
      "metadata": {
        "id": "HrEPoAvdMTZ7",
        "colab_type": "code",
        "colab": {}
      },
      "source": [
        "# Make the plot yourself given the stored results\n",
        "import matplotlib.pyplot as plt\n",
        "plt.plot(bl.results['percentage_emp'][:,0], bl.results['percentage_emp'][:,1], label='Empirical distribution')\n",
        "plt.plot(bl.results['percentage_emp'][:,0], bl.leading_digits, label='Benfords Distribution')\n",
        "plt.legend()\n",
        "plt.grid(True)\n",
        "plt.xlabel('Leading digits')\n",
        "plt.ylabel('Frequency')"
      ],
      "execution_count": null,
      "outputs": []
    },
    {
      "cell_type": "markdown",
      "metadata": {
        "id": "bhyScStLGIwr",
        "colab_type": "text"
      },
      "source": [
        "**Iterate over all candidates in the dataset and make the plots**"
      ]
    },
    {
      "cell_type": "code",
      "metadata": {
        "id": "E9-Go8bNGH73",
        "colab_type": "code",
        "colab": {}
      },
      "source": [
        "# %% USA\n",
        "df = bl.import_example('elections_usa')\n",
        "for candidate in df['candidate'].unique():\n",
        "    Iloc = df['candidate']==candidate\n",
        "    X = df['votes'].loc[Iloc].values\n",
        "    bl.fit(X)\n",
        "    bl.plot(title=candidate)"
      ],
      "execution_count": null,
      "outputs": []
    }
  ]
}